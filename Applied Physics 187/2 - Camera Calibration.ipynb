{
 "cells": [
  {
   "cell_type": "code",
   "execution_count": 2,
   "metadata": {},
   "outputs": [],
   "source": [
    "import numpy as np\n",
    "import pandas as pd"
   ]
  },
  {
   "cell_type": "code",
   "execution_count": 4,
   "metadata": {
    "scrolled": true
   },
   "outputs": [
    {
     "data": {
      "text/html": [
       "<div>\n",
       "<style scoped>\n",
       "    .dataframe tbody tr th:only-of-type {\n",
       "        vertical-align: middle;\n",
       "    }\n",
       "\n",
       "    .dataframe tbody tr th {\n",
       "        vertical-align: top;\n",
       "    }\n",
       "\n",
       "    .dataframe thead th {\n",
       "        text-align: right;\n",
       "    }\n",
       "</style>\n",
       "<table border=\"1\" class=\"dataframe\">\n",
       "  <thead>\n",
       "    <tr style=\"text-align: right;\">\n",
       "      <th></th>\n",
       "      <th>Xi</th>\n",
       "      <th>Yi</th>\n",
       "      <th>Unnamed: 2</th>\n",
       "      <th>Xo</th>\n",
       "      <th>Yo</th>\n",
       "      <th>Zo</th>\n",
       "      <th>Unnamed: 6</th>\n",
       "      <th>(-XiXo)</th>\n",
       "      <th>(-XiYo)</th>\n",
       "      <th>(-XiZo)</th>\n",
       "      <th>(-YiXo)</th>\n",
       "      <th>(-YiYo)</th>\n",
       "      <th>(-YiZo)</th>\n",
       "    </tr>\n",
       "  </thead>\n",
       "  <tbody>\n",
       "    <tr>\n",
       "      <th>0</th>\n",
       "      <td>1884</td>\n",
       "      <td>1915</td>\n",
       "      <td>NaN</td>\n",
       "      <td>1</td>\n",
       "      <td>0</td>\n",
       "      <td>1</td>\n",
       "      <td>NaN</td>\n",
       "      <td>-1884</td>\n",
       "      <td>0</td>\n",
       "      <td>-1884</td>\n",
       "      <td>-1915</td>\n",
       "      <td>0</td>\n",
       "      <td>-1915</td>\n",
       "    </tr>\n",
       "    <tr>\n",
       "      <th>1</th>\n",
       "      <td>2079</td>\n",
       "      <td>1922</td>\n",
       "      <td>NaN</td>\n",
       "      <td>0</td>\n",
       "      <td>1</td>\n",
       "      <td>1</td>\n",
       "      <td>NaN</td>\n",
       "      <td>0</td>\n",
       "      <td>-2079</td>\n",
       "      <td>-2079</td>\n",
       "      <td>0</td>\n",
       "      <td>-1922</td>\n",
       "      <td>-1922</td>\n",
       "    </tr>\n",
       "    <tr>\n",
       "      <th>2</th>\n",
       "      <td>1517</td>\n",
       "      <td>1975</td>\n",
       "      <td>NaN</td>\n",
       "      <td>4</td>\n",
       "      <td>0</td>\n",
       "      <td>1</td>\n",
       "      <td>NaN</td>\n",
       "      <td>-6068</td>\n",
       "      <td>0</td>\n",
       "      <td>-1517</td>\n",
       "      <td>-7900</td>\n",
       "      <td>0</td>\n",
       "      <td>-1975</td>\n",
       "    </tr>\n",
       "    <tr>\n",
       "      <th>3</th>\n",
       "      <td>1107</td>\n",
       "      <td>2046</td>\n",
       "      <td>NaN</td>\n",
       "      <td>7</td>\n",
       "      <td>0</td>\n",
       "      <td>1</td>\n",
       "      <td>NaN</td>\n",
       "      <td>-7749</td>\n",
       "      <td>0</td>\n",
       "      <td>-1107</td>\n",
       "      <td>-14322</td>\n",
       "      <td>0</td>\n",
       "      <td>-2046</td>\n",
       "    </tr>\n",
       "    <tr>\n",
       "      <th>4</th>\n",
       "      <td>2244</td>\n",
       "      <td>1986</td>\n",
       "      <td>NaN</td>\n",
       "      <td>0</td>\n",
       "      <td>3</td>\n",
       "      <td>1</td>\n",
       "      <td>NaN</td>\n",
       "      <td>0</td>\n",
       "      <td>-6732</td>\n",
       "      <td>-2244</td>\n",
       "      <td>0</td>\n",
       "      <td>-5958</td>\n",
       "      <td>-1986</td>\n",
       "    </tr>\n",
       "  </tbody>\n",
       "</table>\n",
       "</div>"
      ],
      "text/plain": [
       "     Xi   Yi   Unnamed: 2  Xo  Yo  Zo  Unnamed: 6  (-XiXo)  (-XiYo)  (-XiZo)  \\\n",
       "0  1884  1915         NaN   1   0   1         NaN    -1884        0    -1884   \n",
       "1  2079  1922         NaN   0   1   1         NaN        0    -2079    -2079   \n",
       "2  1517  1975         NaN   4   0   1         NaN    -6068        0    -1517   \n",
       "3  1107  2046         NaN   7   0   1         NaN    -7749        0    -1107   \n",
       "4  2244  1986         NaN   0   3   1         NaN        0    -6732    -2244   \n",
       "\n",
       "   (-YiXo)  (-YiYo)  (-YiZo)  \n",
       "0    -1915        0    -1915  \n",
       "1        0    -1922    -1922  \n",
       "2    -7900        0    -1975  \n",
       "3   -14322        0    -2046  \n",
       "4        0    -5958    -1986  "
      ]
     },
     "execution_count": 4,
     "metadata": {},
     "output_type": "execute_result"
    }
   ],
   "source": [
    "data = pd.read_excel('Activity 2.xlsx', 'Sheet1')              # Reading the excel file\n",
    "data = pd.DataFrame(data)                                      # make a data frame from the table of values in the excel\n",
    "data.head()  "
   ]
  },
  {
   "cell_type": "code",
   "execution_count": 7,
   "metadata": {},
   "outputs": [],
   "source": [
    "def Qp(data):\n",
    "    q = np.empty((0,11), int)\n",
    "    p = np.empty((0,1), int)\n",
    "\n",
    "    for i in range (0, len(data['Xi'])):\n",
    "        x_i = data.loc[i, 'Xi']\n",
    "        y_i = data.loc[i, 'Yi ']\n",
    "        x_o = data.loc[i, 'Xo']\n",
    "        y_o = data.loc[i, 'Yo']\n",
    "        z_o = data.loc[i, 'Zo']\n",
    "        \n",
    "        xi_xo = -(x_i*x_o)\n",
    "        xi_yo = -(x_i*y_o)\n",
    "        xi_zo = -(x_i*z_o)\n",
    "        \n",
    "        yi_xo = -(y_i*x_o)\n",
    "        yi_yo = -(y_i*y_o)\n",
    "        yi_zo = -(y_i*z_o)\n",
    "        \n",
    "        q = np.append(q, [[x_o, y_o, z_o, 1, 0, 0, 0, 0, xi_xo, xi_yo, xi_zo]], axis = 0)\n",
    "        q = np.append(q, [[0, 0, 0, 0, x_o, y_o, z_o, 1, yi_xo, yi_yo,yi_zo]], axis = 0)\n",
    "        \n",
    "        p = np.append(p, [[x_i]], axis = 0)\n",
    "        p = np.append(p, [[y_i]],axis = 0)\n",
    "    return q,p"
   ]
  },
  {
   "cell_type": "code",
   "execution_count": 35,
   "metadata": {},
   "outputs": [
    {
     "data": {
      "text/plain": [
       "array([[ 9.94832418e-02,  1.97589853e-01, -2.21221751e-02,\n",
       "        -2.31766908e-02,  1.16544317e-01,  1.36889570e-01,\n",
       "        -5.60529184e-02,  1.24950930e-01,  6.85296017e-05,\n",
       "         8.16706223e-05, -9.72971334e-06],\n",
       "       [ 1.97589853e-01,  6.54474913e-01, -3.36189117e-02,\n",
       "        -3.27942818e-02,  2.56877570e-01,  4.26529768e-01,\n",
       "        -1.44847734e-01,  3.85637023e-01,  1.45958114e-04,\n",
       "         2.68293580e-04, -1.23543121e-05],\n",
       "       [-2.21221751e-02, -3.36189117e-02,  3.29510783e-02,\n",
       "        -2.34314642e-03, -1.51978150e-02, -2.67326796e-02,\n",
       "         1.58773611e-02,  1.88869644e-02, -8.90569073e-06,\n",
       "        -1.69963979e-05,  1.59848414e-05],\n",
       "       [-2.31766908e-02, -3.27942818e-02, -2.34314642e-03,\n",
       "         3.43194488e-01,  4.30889634e-02,  2.66576387e-02,\n",
       "        -1.22509293e-02,  5.17953263e-02,  2.61075889e-05,\n",
       "         1.32125911e-05,  4.21085571e-06],\n",
       "       [ 1.16544317e-01,  2.56877570e-01, -1.51978150e-02,\n",
       "         4.30889634e-02,  1.81341634e-01,  2.05358751e-01,\n",
       "        -7.79669837e-02,  1.46187425e-01,  9.79582356e-05,\n",
       "         1.12989257e-04, -6.46982971e-06],\n",
       "       [ 1.36889570e-01,  4.26529768e-01, -2.67326796e-02,\n",
       "         2.66576387e-02,  2.05358751e-01,  3.22536409e-01,\n",
       "        -1.08673048e-01,  1.99738068e-01,  1.09065074e-04,\n",
       "         1.84162308e-04, -1.21368077e-05],\n",
       "       [-5.60529184e-02, -1.44847734e-01,  1.58773611e-02,\n",
       "        -1.22509293e-02, -7.79669837e-02, -1.08673048e-01,\n",
       "         4.48537008e-02, -9.61808870e-02, -4.38851552e-05,\n",
       "        -6.40850042e-05,  7.93329426e-06],\n",
       "       [ 1.24950930e-01,  3.85637023e-01,  1.88869644e-02,\n",
       "         5.17953263e-02,  1.46187425e-01,  1.99738068e-01,\n",
       "        -9.61808870e-02,  6.39964907e-01,  1.13187752e-04,\n",
       "         1.60712017e-04,  1.37482858e-05],\n",
       "       [ 6.85296017e-05,  1.45958114e-04, -8.90569073e-06,\n",
       "         2.61075889e-05,  9.79582356e-05,  1.09065074e-04,\n",
       "        -4.38851552e-05,  1.13187752e-04,  5.77415120e-08,\n",
       "         6.43864572e-08, -3.80947846e-09],\n",
       "       [ 8.16706223e-05,  2.68293580e-04, -1.69963979e-05,\n",
       "         1.32125911e-05,  1.12989257e-04,  1.84162308e-04,\n",
       "        -6.40850042e-05,  1.60712017e-04,  6.43864572e-08,\n",
       "         1.15579368e-07, -7.78005893e-09],\n",
       "       [-9.72971334e-06, -1.23543121e-05,  1.59848414e-05,\n",
       "         4.21085571e-06, -6.46982971e-06, -1.21368077e-05,\n",
       "         7.93329426e-06,  1.37482858e-05, -3.80947846e-09,\n",
       "        -7.78005893e-09,  9.02647045e-09]])"
      ]
     },
     "execution_count": 35,
     "metadata": {},
     "output_type": "execute_result"
    }
   ],
   "source": [
    "Q = Qp(data)[0]\n",
    "Qt = np.transpose(Q)\n",
    "Q_prod = np.matmul(Qt,Q)\n",
    "QQt_inv = np.linalg.inv(Q_prod)\n",
    "P= Qp(data)[1]\n",
    "\n",
    "q1 = np.matmul(QQt_inv,Qt)\n",
    "A = np.matmul(q1,P)\n",
    "\n",
    "QQt_inv"
   ]
  },
  {
   "cell_type": "markdown",
   "metadata": {},
   "source": [
    "Prediction of image coordinates"
   ]
  },
  {
   "cell_type": "code",
   "execution_count": 28,
   "metadata": {},
   "outputs": [
    {
     "name": "stdout",
     "output_type": "stream",
     "text": [
      "Enter x_o: 0\n",
      "Enter y_o: 6\n",
      "Enter z_o: 4\n"
     ]
    }
   ],
   "source": [
    "x_o = int(input(\"Enter x_o: \"))\n",
    "y_o = int(input(\"Enter y_o: \"))\n",
    "z_o = int(input(\"Enter z_o: \"))\n",
    "\n",
    "\n",
    "xi_pred = (A[0]*x_o + A[1]*y_o + A[2]*z_o + A[3]) / (A[8]*x_o + A[9]*y_o + A[10]*z_o + 1)\n",
    "yi_pred = (A[4]*x_o + A[5]*y_o + A[6]*z_o + A[7]) / (A[8]*x_o + A[9]*y_o + A[10]*z_o + 1)"
   ]
  },
  {
   "cell_type": "code",
   "execution_count": 29,
   "metadata": {},
   "outputs": [
    {
     "data": {
      "text/plain": [
       "(array([2529.39612786]), array([1605.62949514]))"
      ]
     },
     "execution_count": 29,
     "metadata": {},
     "output_type": "execute_result"
    }
   ],
   "source": [
    "xi_pred, yi_pred"
   ]
  }
 ],
 "metadata": {
  "kernelspec": {
   "display_name": "Python 3",
   "language": "python",
   "name": "python3"
  },
  "language_info": {
   "codemirror_mode": {
    "name": "ipython",
    "version": 3
   },
   "file_extension": ".py",
   "mimetype": "text/x-python",
   "name": "python",
   "nbconvert_exporter": "python",
   "pygments_lexer": "ipython3",
   "version": "3.7.1"
  }
 },
 "nbformat": 4,
 "nbformat_minor": 2
}
