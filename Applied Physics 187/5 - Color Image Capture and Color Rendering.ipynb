{
 "cells": [
  {
   "cell_type": "markdown",
   "metadata": {},
   "source": [
    "## Color Image Capture and Color Rendering!\n",
    "- AP 187: Activity 5\n",
    "- Name: Gelli Mae P. Gloria\n",
    "- Student Number: 2015-06435\n",
    "\n",
    "#### Objectives:\n",
    "- Calculate the digital color (RGB) of surfaces.\n",
    "- Using the calculated R, G, and B of a surface, render the color on a display device \n",
    "\n",
    "### Preliminaries:\n",
    "Import all important packages"
   ]
  },
  {
   "cell_type": "code",
   "execution_count": 1,
   "metadata": {},
   "outputs": [],
   "source": [
    "import pandas as pd\n",
    "import numpy as np\n",
    "import matplotlib.pyplot as plt"
   ]
  },
  {
   "cell_type": "code",
   "execution_count": 2,
   "metadata": {},
   "outputs": [],
   "source": [
    "#read files\n",
    "macbeth = pd.read_excel(\"MacbethColorChecker.xls\")\n",
    "sensitivity = pd.read_excel(\"RGB_sensitivity.xls\")\n",
    "illum = pd.read_csv(\"illuminant d65.csv\")\n",
    "illum = illum.rename(columns = {'300': 'wavelength', '0.04': 'power'})\n",
    "a = np.arange(0,61,2)\n",
    "illum = illum[(illum['wavelength'] >= 400) & (illum['wavelength'] <= 700)].reset_index(drop=True)\n",
    "illum = illum.loc[a]"
   ]
  },
  {
   "cell_type": "code",
   "execution_count": 3,
   "metadata": {
    "scrolled": false
   },
   "outputs": [
    {
     "data": {
      "text/plain": [
       "(4, 31)"
      ]
     },
     "execution_count": 3,
     "metadata": {},
     "output_type": "execute_result"
    }
   ],
   "source": [
    "macbeth = macbeth.loc[macbeth['wavelength'].isin(illum['wavelength'])]\n",
    "# macbeth = macbeth.drop(columns = {'Unnamed: 25', 'Patch Numbers'})\n",
    "np.array(macbeth[24])\n",
    "np.array(sensitivity).T.shape"
   ]
  },
  {
   "cell_type": "markdown",
   "metadata": {},
   "source": [
    "### Define functions for the rendering of the digital color of the surfaces"
   ]
  },
  {
   "cell_type": "code",
   "execution_count": 4,
   "metadata": {},
   "outputs": [],
   "source": [
    "#convert RGB to HEX\n",
    "def rgb2hex(r,g,b):\n",
    "    return \"#{:02x}{:02x}{:02x}\".format(r,g,b)\n",
    "\n",
    "#convert HEX to RGB\n",
    "def hex2rgb(hexcode):\n",
    "    return tuple(map(ord,hexcode[1:].decode('hex')))"
   ]
  },
  {
   "cell_type": "markdown",
   "metadata": {},
   "source": [
    "Source: https://stackoverflow.com/questions/3380726/converting-a-rgb-color-tuple-to-a-six-digit-code-in-python"
   ]
  },
  {
   "cell_type": "code",
   "execution_count": 7,
   "metadata": {},
   "outputs": [],
   "source": [
    "# Define function that calculates the digital number R,G,B of a pixel\n",
    "def dn(P, R, S, j, c, hex = False):\n",
    "    num = np.dot(np.array(P['power']) * np.array(R[j]), np.array(S))\n",
    "    den = np.dot(np.array(P['power']), np.array(S))\n",
    "    RGB = num/den\n",
    "\n",
    "    R = (RGB[0]/max(RGB) * 255 * c).astype('uint8')\n",
    "    G = (RGB[1]/max(RGB) * 255 * c).astype('uint8')\n",
    "    B = (RGB[2]/max(RGB) * 255 * c).astype('uint8')\n",
    "\n",
    "    if hex == True:\n",
    "        return \"#{:02x}{:02x}{:02x}\".format(R,G,B)\n",
    "    else:\n",
    "        return R, G, B, \"#{:02x}{:02x}{:02x}\".format(R,G,B)"
   ]
  },
  {
   "cell_type": "markdown",
   "metadata": {},
   "source": [
    "### Export the result to an excel file"
   ]
  },
  {
   "cell_type": "code",
   "execution_count": 11,
   "metadata": {
    "scrolled": true
   },
   "outputs": [],
   "source": [
    "vals = {}\n",
    "for i in range(1,25):\n",
    "    hex = dn(illum, macbeth, sensitivity, i,1.25, False)\n",
    "    vals[str(i)] = (hex)\n",
    "value = pd.DataFrame(vals)\n",
    "value.to_excel('RGB_true1.xlsx')"
   ]
  },
  {
   "cell_type": "markdown",
   "metadata": {},
   "source": [
    "Acknowledgement: Jersey Ganding and Alena Edora"
   ]
  }
 ],
 "metadata": {
  "kernelspec": {
   "display_name": "Python 3",
   "language": "python",
   "name": "python3"
  },
  "language_info": {
   "codemirror_mode": {
    "name": "ipython",
    "version": 3
   },
   "file_extension": ".py",
   "mimetype": "text/x-python",
   "name": "python",
   "nbconvert_exporter": "python",
   "pygments_lexer": "ipython3",
   "version": "3.7.1"
  }
 },
 "nbformat": 4,
 "nbformat_minor": 2
}
