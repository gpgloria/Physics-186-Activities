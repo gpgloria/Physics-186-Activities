{
 "cells": [
  {
   "cell_type": "markdown",
   "metadata": {},
   "source": [
    "## A COLOR ORDER SYSTEM AND COLOR DIFFERENCE SPECIFICATION\n",
    "- AP 187: Activity 4\n",
    "- Name: Gelli Mae P. Gloria\n",
    "- Student Number: 2015-06435\n",
    "\n",
    "#### Objectives:\n",
    "- Transform the CIE xy of Activity 3 into IE u'v'\n",
    "- Using 3 randomly picked chips from the munsell file, calculate the color differences between the observed color under D65 and white LED\n",
    "- Remark if the color difference is noticeable\n",
    "\n",
    "### Preliminaries:\n",
    "Import all important packages"
   ]
  },
  {
   "cell_type": "code",
   "execution_count": 27,
   "metadata": {},
   "outputs": [],
   "source": [
    "# import libraries\n",
    "import numpy as np\n",
    "import matplotlib.pyplot as plt\n",
    "import random\n",
    "import scipy.io as sio\n",
    "import pandas as pd"
   ]
  },
  {
   "cell_type": "code",
   "execution_count": 28,
   "metadata": {},
   "outputs": [],
   "source": [
    "# Define functions\n",
    "\n",
    "def XYZ(data, file, planck, munsell, j):\n",
    "    # Function for computing the tristimuus values of the colored object illuminated by the specific\n",
    "    #    light source\n",
    "    P_illum = file['Spectral Power']    # Illuminating light's spectral power\n",
    "    den = X + Y + Z\n",
    "    file1 = pd.DataFrame()\n",
    "    for i in temp:\n",
    "        file1['X'+str(i)] = data['x10bar(l)']*P_illum*planck['Temp='+str(i)]#*munsell[:,j] # X\n",
    "        file1['Y'+str(i)] = data['y10bar(l)']*P_illum*planck['Temp='+str(i)]#*munsell[:,j] # Y\n",
    "        file1['Z'+str(i)] = data['z10bar(l)']*P_illum*planck['Temp='+str(i)]#*munsell[:,j] # Z\n",
    "    return file1\n",
    "\n",
    "def xy(file):\n",
    "    # For the Planckian locus\n",
    "    a = []\n",
    "    b = []\n",
    "    for i in temp:\n",
    "        X = file['X'+str(i)].sum()\n",
    "        Y = file['Y'+str(i)].sum()\n",
    "        Z = file['Z'+str(i)].sum()\n",
    "        x = 4*X/(X+15*Y+3*Z)\n",
    "        y = 9*Y/(X+15*Y+3*Z)\n",
    "        a.append(x)\n",
    "        b.append(y)\n",
    "    return a,b\n",
    "\n",
    "def rang(start, end, step):\n",
    "    i = start\n",
    "    while i <= end:\n",
    "        yield i\n",
    "        i += step"
   ]
  },
  {
   "cell_type": "markdown",
   "metadata": {},
   "source": [
    "### Read and Load Data\n",
    "We use pandas and scipy packages for the reading and loading of the necessary files for this activity."
   ]
  },
  {
   "cell_type": "code",
   "execution_count": 33,
   "metadata": {},
   "outputs": [
    {
     "data": {
      "text/html": [
       "<div>\n",
       "<style scoped>\n",
       "    .dataframe tbody tr th:only-of-type {\n",
       "        vertical-align: middle;\n",
       "    }\n",
       "\n",
       "    .dataframe tbody tr th {\n",
       "        vertical-align: top;\n",
       "    }\n",
       "\n",
       "    .dataframe thead th {\n",
       "        text-align: right;\n",
       "    }\n",
       "</style>\n",
       "<table border=\"1\" class=\"dataframe\">\n",
       "  <thead>\n",
       "    <tr style=\"text-align: right;\">\n",
       "      <th></th>\n",
       "      <th>l.nm</th>\n",
       "      <th>x10bar(l)</th>\n",
       "      <th>y10bar(l)</th>\n",
       "      <th>z10bar(l)</th>\n",
       "    </tr>\n",
       "  </thead>\n",
       "  <tbody>\n",
       "    <tr>\n",
       "      <th>77</th>\n",
       "      <td>765</td>\n",
       "      <td>0.000090</td>\n",
       "      <td>0.000036</td>\n",
       "      <td>0.000000</td>\n",
       "    </tr>\n",
       "    <tr>\n",
       "      <th>78</th>\n",
       "      <td>770</td>\n",
       "      <td>0.000065</td>\n",
       "      <td>0.000025</td>\n",
       "      <td>0.000000</td>\n",
       "    </tr>\n",
       "    <tr>\n",
       "      <th>79</th>\n",
       "      <td>775</td>\n",
       "      <td>0.000046</td>\n",
       "      <td>0.000018</td>\n",
       "      <td>0.000000</td>\n",
       "    </tr>\n",
       "    <tr>\n",
       "      <th>80</th>\n",
       "      <td>780</td>\n",
       "      <td>0.000033</td>\n",
       "      <td>0.000013</td>\n",
       "      <td>0.000000</td>\n",
       "    </tr>\n",
       "    <tr>\n",
       "      <th>81</th>\n",
       "      <td>Sum.:</td>\n",
       "      <td>23.329353</td>\n",
       "      <td>23.332036</td>\n",
       "      <td>23.334153</td>\n",
       "    </tr>\n",
       "  </tbody>\n",
       "</table>\n",
       "</div>"
      ],
      "text/plain": [
       "     l.nm  x10bar(l)  y10bar(l)  z10bar(l)\n",
       "77    765   0.000090   0.000036   0.000000\n",
       "78    770   0.000065   0.000025   0.000000\n",
       "79    775   0.000046   0.000018   0.000000\n",
       "80    780   0.000033   0.000013   0.000000\n",
       "81  Sum.:  23.329353  23.332036  23.334153"
      ]
     },
     "execution_count": 33,
     "metadata": {},
     "output_type": "execute_result"
    }
   ],
   "source": [
    "data = pd.read_csv('CIE standard observer-1964.csv')\n",
    "data1 = pd.read_csv('illuminant d65.csv')\n",
    "file = pd.DataFrame()\n",
    "data = pd.DataFrame(data)\n",
    "data1 = pd.DataFrame(data1)\n",
    "munsell = sio.loadmat(\"munsell400_700_5.mat\")\n",
    "\n",
    "data_illum = data1.iloc[15:97].reset_index()\n",
    "data_illum = data_illum.rename(columns = {'300':'Wavelength'})\n",
    "data_illum = data_illum.rename(columns = {'0.04':'Spectral Power'})\n",
    "# data_illum = data_illum.drop(columns = 'level_0')\n",
    "\n",
    "data3 = data.loc[4:64].reset_index()\n",
    "data_illum1 = data_illum.loc[4:64].reset_index()\n",
    "\n",
    "data.head()\n",
    "munsell = munsell['munsell']\n",
    "data.tail()"
   ]
  },
  {
   "cell_type": "markdown",
   "metadata": {},
   "source": [
    "### Spectral Power Distribution of the Illuminant D65 "
   ]
  },
  {
   "cell_type": "code",
   "execution_count": 29,
   "metadata": {
    "scrolled": false
   },
   "outputs": [
    {
     "data": {
      "image/png": "[encoded data removed]",
      "text/plain": [
       "<Figure size 432x288 with 1 Axes>"
      ]
     },
     "metadata": {
      "needs_background": "light"
     },
     "output_type": "display_data"
    }
   ],
   "source": [
    "plt.plot(data_illum['Wavelength'],data_illum['Spectral Power'])\n",
    "plt.title(\"CIE D65\")\n",
    "plt.xlabel(\"Wavelength (nm)\")\n",
    "plt.ylabel(\"Relative Spectral Power\")\n",
    "\n",
    "# plt.show()\n",
    "# legend()\n",
    "# xlabel('Wavelength (nm)')\n",
    "# ylim(0,300)\n",
    "# ylabel('Relative Spectral Power')\n",
    "plt.title('Spectral Power Distribution of D65')\n",
    "plt.savefig(\"CIE_D65.png\", bbox_inches=\"tight\", dpi=300)"
   ]
  },
  {
   "cell_type": "code",
   "execution_count": 42,
   "metadata": {},
   "outputs": [
    {
     "data": {
      "text/plain": [
       "array([1.6000000e-04, 6.6200000e-04, 2.3620000e-03, 7.2420000e-03,\n",
       "       1.9110000e-02, 4.3400000e-02, 8.4736000e-02, 1.4063800e-01,\n",
       "       2.0449200e-01, 2.6473700e-01, 3.1467900e-01, 3.5771900e-01,\n",
       "       3.8373400e-01, 3.8672600e-01, 3.7070200e-01, 3.4295700e-01,\n",
       "       3.0227300e-01, 2.5408500e-01, 1.9561800e-01, 1.3234900e-01,\n",
       "       8.0507000e-02, 4.1072000e-02, 1.6172000e-02, 5.1320000e-03,\n",
       "       3.8160000e-03, 1.5444000e-02, 3.7465000e-02, 7.1358000e-02,\n",
       "       1.1774900e-01, 1.7295300e-01, 2.3649100e-01, 3.0421300e-01,\n",
       "       3.7677200e-01, 4.5158400e-01, 5.2982600e-01, 6.1605300e-01,\n",
       "       7.0522400e-01, 7.9383200e-01, 8.7865500e-01, 9.5116200e-01,\n",
       "       1.0141600e+00, 1.0743000e+00, 1.1185200e+00, 1.1343000e+00,\n",
       "       1.1239900e+00, 1.0891000e+00, 1.0304800e+00, 9.5074000e-01,\n",
       "       8.5629700e-01, 7.5493000e-01, 6.4746700e-01, 5.3511000e-01,\n",
       "       4.3156700e-01, 3.4369000e-01, 2.6832900e-01, 2.0430000e-01,\n",
       "       1.5256800e-01, 1.1221000e-01, 8.1261000e-02, 5.7930000e-02,\n",
       "       4.0851000e-02, 2.8623000e-02, 1.9941000e-02, 1.3842000e-02,\n",
       "       9.5770000e-03, 6.6050000e-03, 4.5530000e-03, 3.1450000e-03,\n",
       "       2.1750000e-03, 1.5060000e-03, 1.0450000e-03, 7.2700000e-04,\n",
       "       5.0800000e-04, 3.5600000e-04, 2.5100000e-04, 1.7800000e-04,\n",
       "       1.2600000e-04, 9.0000000e-05, 6.5000000e-05, 4.6000000e-05,\n",
       "       3.3000000e-05, 2.3329353e+01])"
      ]
     },
     "execution_count": 42,
     "metadata": {},
     "output_type": "execute_result"
    },
    {
     "data": {
      "image/png": "[encoded data removed]",
      "text/plain": [
       "<Figure size 432x288 with 1 Axes>"
      ]
     },
     "metadata": {
      "needs_background": "light"
     },
     "output_type": "display_data"
    }
   ],
   "source": [
    "X = np.array(data['x10bar(l)'])\n",
    "Y = np.array(data['y10bar(l)'])\n",
    "Z = np.array(data['z10bar(l)'])\n",
    "P_illum = np.array(data_illum['Spectral Power'])\n",
    "den = X + Y + Z\n",
    "\n",
    "#compute for the tristimulus value of the monochromatic light source\n",
    "Xn = (X * P_illum)\n",
    "Yn = (Y * P_illum)\n",
    "Zn = (Z * P_illum)\n",
    "\n",
    "den_prime = Xn + (15*Yn) + (3*Zn)\n",
    "u_prime = (4*Xn) / den_prime\n",
    "v_prime = (9*Yn) / den_prime\n",
    "uv = pd.DataFrame(u_prime,v_prime)\n",
    "# np.array([0, 2, 4, 6]) + np.array([1, 1, 1, 1])\n",
    "plt.scatter(u_prime[:81], v_prime[:81])\n",
    "\n",
    "X"
   ]
  },
  {
   "cell_type": "code",
   "execution_count": null,
   "metadata": {},
   "outputs": [],
   "source": []
  },
  {
   "cell_type": "code",
   "execution_count": 7,
   "metadata": {},
   "outputs": [],
   "source": [
    "#X, Y, Z already given in Activity 3 dataset\n",
    "\n",
    "def xy_to_uv(data, file, munsell):\n",
    "    \n",
    "    X = np.array(data['x10bar(l)'])\n",
    "    Y = np.array(data['y10bar(l)'])\n",
    "    Z = np.array(data['z10bar(l)'])\n",
    "    \n",
    "    P_illum = np.array(file['Spectral Power'])\n",
    "    den = X + Y + Z\n",
    "\n",
    "    #compute for the tristimulus value of the monochromatic light source\n",
    "    Xn = (X * P_illum * munsell[:,0])\n",
    "    Yn = (Y * P_illum * munsell[:,0])\n",
    "    Zn = (Z * P_illum * munsell[:,0])\n",
    "    den1 = Xn + Yn + Zn\n",
    "    \n",
    "\n",
    "  #compute for L*\n",
    "    Y_ratio = Yn / Y\n",
    "    cond = (6/29)**3\n",
    "    L_star = np.zeros(Y_ratio.shape)\n",
    "\n",
    "    for index, val in enumerate(Y_ratio):\n",
    "        if val <= cond:\n",
    "            L_star[index] = (val * (29/3)**3)\n",
    "        else:\n",
    "            L_star[index] = ((116 * val**(1/3)) - 16)\n",
    "\n",
    "    #compute for u' and v'\n",
    "    den_prime = Xn + (15*Yn) + (3*Zn)\n",
    "    u_prime = (4*Xn) / den_prime\n",
    "    v_prime = (9*Yn) / den_prime\n",
    "\n",
    "    #compute for u_n' and v_n'\n",
    "    den_prime_n = X + (15*Y) + (3*Z)\n",
    "    u_prime_n = (4*X) / den_prime_n\n",
    "    v_prime_n = (9*Y) / den_prime_n\n",
    "\n",
    "    #compute for u* and v*\n",
    "    u_star = (13*L_star)*(u_prime - u_prime_n)\n",
    "    v_star = (13*L_star)*(v_prime - v_prime_n)\n",
    "\n",
    "    return L_star, u_star, v_star, u_prime, v_prime\n"
   ]
  },
  {
   "cell_type": "code",
   "execution_count": 8,
   "metadata": {},
   "outputs": [
    {
     "data": {
      "text/plain": [
       "46.658706"
      ]
     },
     "execution_count": 8,
     "metadata": {},
     "output_type": "execute_result"
    }
   ],
   "source": [
    "L_star, u_star, v_star, u_prime, v_prime = xy_to_uv(data3, data_illum1, munsell)\n",
    "u_star.shape\n",
    "X = np.array(data['x10bar(l)']).sum()\n",
    "X"
   ]
  },
  {
   "cell_type": "code",
   "execution_count": 11,
   "metadata": {
    "scrolled": false
   },
   "outputs": [],
   "source": [
    "# Defined functions\n",
    "def M_e(lambd,T):\n",
    "    kB = 1.380649*10**(-23)/((10**(-9))**2)\n",
    "    c = 3*10**17\n",
    "    h = 6.6262*10**(-34)/((10**(-9))**2)\n",
    "    M_e = (2*h*c**2)/((lambd**5)*((np.exp((h*c)/(lambd*kB*T))-1)))\n",
    "    return M_e\n",
    "\n",
    "E = np.linspace(400,700, 61)"
   ]
  },
  {
   "cell_type": "code",
   "execution_count": 10,
   "metadata": {},
   "outputs": [],
   "source": [
    "# A = plot(E,(M_e(E, 1000)/(M_e(560, 1000)))*100, label = 'T = 1000K')\n",
    "# B = plot(E,M_e(E, 2500)/(M_e(560, 2500))*100, label = 'T = 2500K')\n",
    "# C = plot(E,M_e(E, 5400)/(M_e(560, 5400))*100, label = 'T = 5400K')\n",
    "# D = plot(E,M_e(E, 6500)/(M_e(560, 6500))*100, label = 'T = 6500K')\n",
    "\n",
    "# legend()\n",
    "# xlabel('Wavelength (nm)')\n",
    "# ylim(0,300)\n",
    "# ylabel('Relative Spectral Power')\n",
    "# title('Spectral Power Distribution of a Blackbody Radiator')"
   ]
  },
  {
   "cell_type": "code",
   "execution_count": 14,
   "metadata": {},
   "outputs": [
    {
     "data": {
      "text/plain": [
       "[1000, 2000, 3000, 4000, 5000, 6000, 7000, 8000, 9000, 10000]"
      ]
     },
     "execution_count": 14,
     "metadata": {},
     "output_type": "execute_result"
    }
   ],
   "source": [
    "temp = [i for i in rang(1000, 10000, 1000)]\n",
    "planck = pd.DataFrame()\n",
    "for i in temp:\n",
    "    planck['Temp='+ str(i)]= ((M_e(E, i)))\n",
    "temp"
   ]
  },
  {
   "cell_type": "code",
   "execution_count": 15,
   "metadata": {},
   "outputs": [
    {
     "data": {
      "text/html": [
       "<div>\n",
       "<style scoped>\n",
       "    .dataframe tbody tr th:only-of-type {\n",
       "        vertical-align: middle;\n",
       "    }\n",
       "\n",
       "    .dataframe tbody tr th {\n",
       "        vertical-align: top;\n",
       "    }\n",
       "\n",
       "    .dataframe thead th {\n",
       "        text-align: right;\n",
       "    }\n",
       "</style>\n",
       "<table border=\"1\" class=\"dataframe\">\n",
       "  <thead>\n",
       "    <tr style=\"text-align: right;\">\n",
       "      <th></th>\n",
       "      <th>X1000</th>\n",
       "      <th>Y1000</th>\n",
       "      <th>Z1000</th>\n",
       "      <th>X2000</th>\n",
       "      <th>Y2000</th>\n",
       "      <th>Z2000</th>\n",
       "      <th>X3000</th>\n",
       "      <th>Y3000</th>\n",
       "      <th>Z3000</th>\n",
       "      <th>X4000</th>\n",
       "      <th>...</th>\n",
       "      <th>Z7000</th>\n",
       "      <th>X8000</th>\n",
       "      <th>Y8000</th>\n",
       "      <th>Z8000</th>\n",
       "      <th>X9000</th>\n",
       "      <th>Y9000</th>\n",
       "      <th>Z9000</th>\n",
       "      <th>X10000</th>\n",
       "      <th>Y10000</th>\n",
       "      <th>Z10000</th>\n",
       "    </tr>\n",
       "  </thead>\n",
       "  <tbody>\n",
       "    <tr>\n",
       "      <th>0</th>\n",
       "      <td>4.918854e-09</td>\n",
       "      <td>5.158233e-10</td>\n",
       "      <td>2.213896e-08</td>\n",
       "      <td>0.322170</td>\n",
       "      <td>0.033785</td>\n",
       "      <td>1.450034</td>\n",
       "      <td>129.865775</td>\n",
       "      <td>13.618577</td>\n",
       "      <td>584.504719</td>\n",
       "      <td>2607.649545</td>\n",
       "      <td>...</td>\n",
       "      <td>5.583922e+05</td>\n",
       "      <td>2.371950e+05</td>\n",
       "      <td>24873.819157</td>\n",
       "      <td>1.067576e+06</td>\n",
       "      <td>3.939133e+05</td>\n",
       "      <td>41308.338137</td>\n",
       "      <td>1.772940e+06</td>\n",
       "      <td>5.930614e+05</td>\n",
       "      <td>62192.306527</td>\n",
       "      <td>2.669273e+06</td>\n",
       "    </tr>\n",
       "    <tr>\n",
       "      <th>1</th>\n",
       "      <td>1.723587e-08</td>\n",
       "      <td>1.790703e-09</td>\n",
       "      <td>7.828419e-08</td>\n",
       "      <td>0.903978</td>\n",
       "      <td>0.093918</td>\n",
       "      <td>4.105808</td>\n",
       "      <td>338.378113</td>\n",
       "      <td>35.155459</td>\n",
       "      <td>1536.891557</td>\n",
       "      <td>6547.566163</td>\n",
       "      <td>...</td>\n",
       "      <td>1.349587e+06</td>\n",
       "      <td>5.637475e+05</td>\n",
       "      <td>58569.985013</td>\n",
       "      <td>2.560505e+06</td>\n",
       "      <td>9.307456e+05</td>\n",
       "      <td>96698.895683</td>\n",
       "      <td>4.227387e+06</td>\n",
       "      <td>1.394858e+06</td>\n",
       "      <td>144917.403614</td>\n",
       "      <td>6.335356e+06</td>\n",
       "    </tr>\n",
       "    <tr>\n",
       "      <th>2</th>\n",
       "      <td>5.127243e-08</td>\n",
       "      <td>5.298118e-09</td>\n",
       "      <td>2.355993e-07</td>\n",
       "      <td>2.165038</td>\n",
       "      <td>0.223719</td>\n",
       "      <td>9.948452</td>\n",
       "      <td>753.927418</td>\n",
       "      <td>77.905359</td>\n",
       "      <td>3464.332786</td>\n",
       "      <td>14070.938223</td>\n",
       "      <td>...</td>\n",
       "      <td>2.802120e+06</td>\n",
       "      <td>1.148346e+06</td>\n",
       "      <td>118661.714863</td>\n",
       "      <td>5.276706e+06</td>\n",
       "      <td>1.885113e+06</td>\n",
       "      <td>194793.842645</td>\n",
       "      <td>8.662186e+06</td>\n",
       "      <td>2.812483e+06</td>\n",
       "      <td>290621.492632</td>\n",
       "      <td>1.292350e+07</td>\n",
       "    </tr>\n",
       "    <tr>\n",
       "      <th>3</th>\n",
       "      <td>1.229192e-07</td>\n",
       "      <td>1.263470e-08</td>\n",
       "      <td>5.740155e-07</td>\n",
       "      <td>4.200749</td>\n",
       "      <td>0.431790</td>\n",
       "      <td>19.616915</td>\n",
       "      <td>1363.221764</td>\n",
       "      <td>140.123820</td>\n",
       "      <td>6366.057009</td>\n",
       "      <td>24561.480002</td>\n",
       "      <td>...</td>\n",
       "      <td>4.752453e+06</td>\n",
       "      <td>1.902500e+06</td>\n",
       "      <td>195555.511283</td>\n",
       "      <td>8.884410e+06</td>\n",
       "      <td>3.105790e+06</td>\n",
       "      <td>319240.128375</td>\n",
       "      <td>1.450361e+07</td>\n",
       "      <td>4.613488e+06</td>\n",
       "      <td>474214.541215</td>\n",
       "      <td>2.154435e+07</td>\n",
       "    </tr>\n",
       "    <tr>\n",
       "      <th>4</th>\n",
       "      <td>2.557541e-07</td>\n",
       "      <td>2.675330e-08</td>\n",
       "      <td>1.216339e-06</td>\n",
       "      <td>7.109561</td>\n",
       "      <td>0.743700</td>\n",
       "      <td>33.812309</td>\n",
       "      <td>2153.711556</td>\n",
       "      <td>225.290202</td>\n",
       "      <td>10242.820964</td>\n",
       "      <td>37491.705940</td>\n",
       "      <td>...</td>\n",
       "      <td>7.071100e+06</td>\n",
       "      <td>2.759818e+06</td>\n",
       "      <td>288692.338111</td>\n",
       "      <td>1.312540e+07</td>\n",
       "      <td>4.480980e+06</td>\n",
       "      <td>468735.413675</td>\n",
       "      <td>2.131106e+07</td>\n",
       "      <td>6.628035e+06</td>\n",
       "      <td>693329.333632</td>\n",
       "      <td>3.152222e+07</td>\n",
       "    </tr>\n",
       "  </tbody>\n",
       "</table>\n",
       "<p>5 rows × 30 columns</p>\n",
       "</div>"
      ],
      "text/plain": [
       "          X1000         Y1000         Z1000     X2000     Y2000      Z2000  \\\n",
       "0  4.918854e-09  5.158233e-10  2.213896e-08  0.322170  0.033785   1.450034   \n",
       "1  1.723587e-08  1.790703e-09  7.828419e-08  0.903978  0.093918   4.105808   \n",
       "2  5.127243e-08  5.298118e-09  2.355993e-07  2.165038  0.223719   9.948452   \n",
       "3  1.229192e-07  1.263470e-08  5.740155e-07  4.200749  0.431790  19.616915   \n",
       "4  2.557541e-07  2.675330e-08  1.216339e-06  7.109561  0.743700  33.812309   \n",
       "\n",
       "         X3000       Y3000         Z3000         X4000      ...       \\\n",
       "0   129.865775   13.618577    584.504719   2607.649545      ...        \n",
       "1   338.378113   35.155459   1536.891557   6547.566163      ...        \n",
       "2   753.927418   77.905359   3464.332786  14070.938223      ...        \n",
       "3  1363.221764  140.123820   6366.057009  24561.480002      ...        \n",
       "4  2153.711556  225.290202  10242.820964  37491.705940      ...        \n",
       "\n",
       "          Z7000         X8000          Y8000         Z8000         X9000  \\\n",
       "0  5.583922e+05  2.371950e+05   24873.819157  1.067576e+06  3.939133e+05   \n",
       "1  1.349587e+06  5.637475e+05   58569.985013  2.560505e+06  9.307456e+05   \n",
       "2  2.802120e+06  1.148346e+06  118661.714863  5.276706e+06  1.885113e+06   \n",
       "3  4.752453e+06  1.902500e+06  195555.511283  8.884410e+06  3.105790e+06   \n",
       "4  7.071100e+06  2.759818e+06  288692.338111  1.312540e+07  4.480980e+06   \n",
       "\n",
       "           Y9000         Z9000        X10000         Y10000        Z10000  \n",
       "0   41308.338137  1.772940e+06  5.930614e+05   62192.306527  2.669273e+06  \n",
       "1   96698.895683  4.227387e+06  1.394858e+06  144917.403614  6.335356e+06  \n",
       "2  194793.842645  8.662186e+06  2.812483e+06  290621.492632  1.292350e+07  \n",
       "3  319240.128375  1.450361e+07  4.613488e+06  474214.541215  2.154435e+07  \n",
       "4  468735.413675  2.131106e+07  6.628035e+06  693329.333632  3.152222e+07  \n",
       "\n",
       "[5 rows x 30 columns]"
      ]
     },
     "execution_count": 15,
     "metadata": {},
     "output_type": "execute_result"
    }
   ],
   "source": [
    "yow = XYZ(data3, data_illum1, planck, munsell, 3)\n",
    "yow.head()"
   ]
  },
  {
   "cell_type": "code",
   "execution_count": 16,
   "metadata": {},
   "outputs": [],
   "source": [
    "a = xy(yow)\n",
    "name = pd.DataFrame()\n",
    "name['Temp'] = temp\n",
    "name['x1'] = a[0]\n",
    "name['y1'] = a[1]\n",
    "name\n",
    "name.to_excel('planckian1.xlsx')"
   ]
  },
  {
   "cell_type": "code",
   "execution_count": 17,
   "metadata": {
    "scrolled": true
   },
   "outputs": [
    {
     "data": {
      "text/plain": [
       "[]"
      ]
     },
     "execution_count": 17,
     "metadata": {},
     "output_type": "execute_result"
    },
    {
     "data": {
      "image/png": "[encoded data removed]",
      "text/plain": [
       "<Figure size 432x288 with 1 Axes>"
      ]
     },
     "metadata": {
      "needs_background": "light"
     },
     "output_type": "display_data"
    }
   ],
   "source": [
    "plt.scatter(name['x1'],name['y1'])\n",
    "# plt.scatter(data['X'], data['Y'])\n",
    "plt.scatter(u_prime[:81],v_prime[:81])\n",
    "plt.plot()"
   ]
  },
  {
   "cell_type": "code",
   "execution_count": 18,
   "metadata": {},
   "outputs": [],
   "source": [
    "# defining function to calculate a* and b*\n",
    "\n",
    "def f(s):\n",
    "    t = (6/29)**3\n",
    "    if s > t:\n",
    "            return s**(1/3)\n",
    "    else:\n",
    "        return (7.787*s)+(16/116)\n",
    "    \n",
    "def L(Y_ratio):\n",
    "    \n",
    "    cond = (6/29)**3\n",
    "\n",
    "    if Y_ratio <= cond:\n",
    "        return (Y_ratio * (29/3)**3)\n",
    "    else:\n",
    "        return ((116 * Y_ratio**(1/3)) - 16)\n",
    "    \n",
    "def xy_to_ab(data, file, j):\n",
    "    \n",
    "    x = np.array(data['x10bar(l)'])\n",
    "    y = np.array(data['y10bar(l)'])\n",
    "    z = np.array(data['z10bar(l)'])\n",
    "    \n",
    "    P = np.array(file['Spectral Power'])\n",
    "    R =  munsell[:,j] \n",
    "\n",
    "  #tristimulus value of colored object with D65 illuminant\n",
    "    X = np.sum(x * P * R)\n",
    "    Y = (y * P * R).sum()\n",
    "    Z = (z * P * R).sum()\n",
    "\n",
    "    #compute for the tristimulus value of the light source\n",
    "    Xn = (x * P).sum()\n",
    "    Yn = (y * P).sum()\n",
    "    Zn = (z * P).sum()\n",
    "\n",
    "    #comput for a* and b*\n",
    "    a_star = 500 * (f(X/Xn) - f(Z/Zn))\n",
    "    b_star = 500 * (f(Y/Yn) - f(Z/Zn))\n",
    "    \n",
    "    # compute for L*:\n",
    "    Y_ratio = Y/Yn\n",
    "    L_star = L(Y_ratio)\n",
    "\n",
    "    return a_star, b_star, L_star"
   ]
  },
  {
   "cell_type": "code",
   "execution_count": 21,
   "metadata": {},
   "outputs": [],
   "source": [
    "df_whiteLED = pd.read_excel('LED flashlight.xlsx')\n",
    "df_whiteLED['wavelength (nm)'] = df_whiteLED['wavelength (nm)'].astype(int)\n",
    "\n",
    "#select only first duplicate\n",
    "df_whiteLED.drop_duplicates(subset = ['wavelength (nm)'], keep = 'first', inplace = True)\n",
    "df_whiteLED_61 = df_whiteLED.loc[df_whiteLED['wavelength (nm)'].isin(data_illum1['Wavelength'])].reset_index(drop=True)\n",
    "df_whiteLED_61 = df_whiteLED_61.rename(columns = {'relative power': 'Spectral Power'})"
   ]
  },
  {
   "cell_type": "code",
   "execution_count": 20,
   "metadata": {},
   "outputs": [
    {
     "data": {
      "text/plain": [
       "{'D65_50': (-77.42461923297395, -48.473128341518176, 64.16894977571542),\n",
       " 'LED_50': (-92.80524933872991, -64.76321169498256, 62.44696206056359),\n",
       " 'D65_501': (6.102744521385095, 1.216058355599292, 84.69376158519881),\n",
       " 'LED_501': (8.407026986926525, 3.3457741829209797, 84.89863768426324),\n",
       " 'D65_1021': (-10.89393544678935, 1.6915904084406908, 92.94450163641959),\n",
       " 'LED_1021': (-9.77432224084046, 0.23101940774072904, 93.35243729663746)}"
      ]
     },
     "execution_count": 20,
     "metadata": {},
     "output_type": "execute_result"
    }
   ],
   "source": [
    "random = [50, 501, 1021]  # index of the chips in munsell\n",
    "stars = {}\n",
    "for i in random:\n",
    "    star_D65 = xy_to_ab(data3, data_illum1, i)\n",
    "    star_LED = xy_to_ab(data3, df_whiteLED_61, i)\n",
    "    stars['D65_'+str(i)] = star_D65\n",
    "    stars['LED_'+str(i)] = star_LED\n",
    "stars"
   ]
  },
  {
   "cell_type": "code",
   "execution_count": 22,
   "metadata": {},
   "outputs": [
    {
     "data": {
      "text/plain": [
       "(22.469887400786806, 3.1444206782989528, 1.8849967856466572)"
      ]
     },
     "execution_count": 22,
     "metadata": {},
     "output_type": "execute_result"
    }
   ],
   "source": [
    "# Compute for the differences between the a*, b*, and L* of the D65 and LED\n",
    "diff1 = np.array(stars['D65_'+str(random[0])])-np.array(stars['LED_'+str(random[0])])\n",
    "diff2 = np.array(stars['D65_'+str(random[1])])-np.array(stars['LED_'+str(random[1])])\n",
    "diff3 = np.array(stars['D65_'+str(random[2])])-np.array(stars['LED_'+str(random[2])])\n",
    "dE = np.sqrt(diff1[2]**2 + diff1[0]**2 + diff1[1]**2)\n",
    "dE1 = np.sqrt(diff2[2]**2 + diff2[0]**2 + diff2[1]**2)\n",
    "dE2= np.sqrt(diff3[2]**2 + diff3[0]**2 + diff3[1]**2)\n",
    "dE, dE1, dE2\n",
    "# diff1, diff2, diff3"
   ]
  },
  {
   "cell_type": "code",
   "execution_count": 23,
   "metadata": {},
   "outputs": [
    {
     "data": {
      "text/plain": [
       "(18.103186390016972, 2.319269968774031, 1.1866321330974903)"
      ]
     },
     "execution_count": 23,
     "metadata": {},
     "output_type": "execute_result"
    }
   ],
   "source": [
    "L_diff = stars['D65_'+str(random[0])][0]-stars['LED_'+str(random[0])][0]\n",
    "C1 = np.sqrt(stars['D65_'+str(random[0])][1]**2+stars['D65_'+str(random[0])][2]**2)\n",
    "C2 = np.sqrt(stars['LED_'+str(random[0])][1]**2+stars['LED_'+str(random[0])][2]**2)\n",
    "h1 = np.arctan((stars['D65_'+str(random[0])][2])/(stars['D65_'+str(random[0])][1]))\n",
    "h2 = np.arctan((stars['LED_'+str(random[0])][2])/(stars['LED_'+str(random[0])][1]))\n",
    "dE_euc = np.sqrt(L_diff**2 + (-C1+C2)**2 + (-h1+ h2)**2)\n",
    "dE_euc\n",
    "\n",
    "L_diff = stars['D65_'+str(random[1])][0]-stars['LED_'+str(random[1])][0]\n",
    "\n",
    "C1 = np.sqrt(stars['D65_'+str(random[1])][1]**2+stars['D65_'+str(random[1])][2]**2)\n",
    "C2 = np.sqrt(stars['LED_'+str(random[1])][1]**2+stars['LED_'+str(random[1])][2]**2)\n",
    "\n",
    "h1 = np.arctan((stars['D65_'+str(random[1])][2])/(stars['D65_'+str(random[1])][1]))\n",
    "h2 = np.arctan((stars['LED_'+str(random[1])][2])/(stars['LED_'+str(random[1])][1]))\n",
    "dE_euc2 = np.sqrt(L_diff**2 + (-C1+C2)**2 + (-h1+ h2)**2)\n",
    "dE_euc\n",
    "\n",
    "L_diff = stars['D65_'+str(random[2])][0]-stars['LED_'+str(random[2])][0]\n",
    "C1 = np.sqrt(stars['D65_'+str(random[2])][1]**2+stars['D65_'+str(random[2])][2]**2)\n",
    "C2 = np.sqrt(stars['LED_'+str(random[2])][1]**2+stars['LED_'+str(random[2])][2]**2)\n",
    "h1 = np.arctan((stars['D65_'+str(random[2])][2])/(stars['D65_'+str(random[2])][1]))\n",
    "h2 = np.arctan((stars['LED_'+str(random[2])][2])/(stars['LED_'+str(random[2])][1]))\n",
    "dE_euc3 = np.sqrt(L_diff**2 + (-C1+C2)**2 + (-h1+ h2)**2)\n",
    "dE_euc, dE_euc2, dE_euc3"
   ]
  }
 ],
 "metadata": {
  "kernelspec": {
   "display_name": "Python 3",
   "language": "python",
   "name": "python3"
  },
  "language_info": {
   "codemirror_mode": {
    "name": "ipython",
    "version": 3
   },
   "file_extension": ".py",
   "mimetype": "text/x-python",
   "name": "python",
   "nbconvert_exporter": "python",
   "pygments_lexer": "ipython3",
   "version": "3.7.1"
  }
 },
 "nbformat": 4,
 "nbformat_minor": 2
}
