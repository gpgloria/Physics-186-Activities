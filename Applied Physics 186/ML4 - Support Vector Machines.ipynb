{
 "cells": [
  {
   "cell_type": "markdown",
   "metadata": {},
   "source": [
    "# ML4: Support Vector Machine\n",
    "- Name: Gelli Mae Gloria\n",
    "- Date: January 14, 2021\n",
    "- Student Number: 2015-06435\n",
    "\n",
    "### Preliminaries\n",
    "Import all important packages from Python: \n",
    "* **Pandas**: Reading and loading the file; make dataframes \n",
    "* **Numpy**: For multidimensional array and operations on arrays\n",
    "* **Matplotlib/Seaborn**: For our visualizations\n",
    "* **Random**: For the initialization of the random number generator for the weights"
   ]
  },
  {
   "cell_type": "code",
   "execution_count": 1,
   "metadata": {},
   "outputs": [],
   "source": [
    "import cvxopt\n",
    "import pandas as pd\n",
    "import numpy as np\n",
    "import matplotlib.pyplot as plt\n",
    "import seaborn as sns\n",
    "from random import seed\n",
    "from cvxopt import matrix, solvers\n"
   ]
  },
  {
   "cell_type": "code",
   "execution_count": 206,
   "metadata": {},
   "outputs": [
    {
     "data": {
      "text/html": [
       "<div>\n",
       "<style scoped>\n",
       "    .dataframe tbody tr th:only-of-type {\n",
       "        vertical-align: middle;\n",
       "    }\n",
       "\n",
       "    .dataframe tbody tr th {\n",
       "        vertical-align: top;\n",
       "    }\n",
       "\n",
       "    .dataframe thead th {\n",
       "        text-align: right;\n",
       "    }\n",
       "</style>\n",
       "<table border=\"1\" class=\"dataframe\">\n",
       "  <thead>\n",
       "    <tr style=\"text-align: right;\">\n",
       "      <th></th>\n",
       "      <th>Image</th>\n",
       "      <th>R</th>\n",
       "      <th>G</th>\n",
       "      <th>B</th>\n",
       "      <th>Hue</th>\n",
       "      <th>StDev</th>\n",
       "      <th>Median</th>\n",
       "      <th>Skew</th>\n",
       "      <th>AR</th>\n",
       "      <th>Round</th>\n",
       "    </tr>\n",
       "  </thead>\n",
       "  <tbody>\n",
       "    <tr>\n",
       "      <th>0</th>\n",
       "      <td>1</td>\n",
       "      <td>236.764</td>\n",
       "      <td>200.613</td>\n",
       "      <td>153.233</td>\n",
       "      <td>34.032874</td>\n",
       "      <td>33.247</td>\n",
       "      <td>138</td>\n",
       "      <td>0.660</td>\n",
       "      <td>1.025</td>\n",
       "      <td>0.976</td>\n",
       "    </tr>\n",
       "    <tr>\n",
       "      <th>1</th>\n",
       "      <td>2</td>\n",
       "      <td>245.911</td>\n",
       "      <td>266.276</td>\n",
       "      <td>179.424</td>\n",
       "      <td>78.378029</td>\n",
       "      <td>37.526</td>\n",
       "      <td>156</td>\n",
       "      <td>0.758</td>\n",
       "      <td>1.010</td>\n",
       "      <td>0.990</td>\n",
       "    </tr>\n",
       "    <tr>\n",
       "      <th>2</th>\n",
       "      <td>3</td>\n",
       "      <td>116.534</td>\n",
       "      <td>109.282</td>\n",
       "      <td>18.273</td>\n",
       "      <td>55.571793</td>\n",
       "      <td>28.342</td>\n",
       "      <td>115</td>\n",
       "      <td>0.587</td>\n",
       "      <td>1.681</td>\n",
       "      <td>0.595</td>\n",
       "    </tr>\n",
       "    <tr>\n",
       "      <th>3</th>\n",
       "      <td>4</td>\n",
       "      <td>220.972</td>\n",
       "      <td>215.616</td>\n",
       "      <td>191.501</td>\n",
       "      <td>49.095721</td>\n",
       "      <td>32.131</td>\n",
       "      <td>147</td>\n",
       "      <td>0.943</td>\n",
       "      <td>1.130</td>\n",
       "      <td>0.885</td>\n",
       "    </tr>\n",
       "    <tr>\n",
       "      <th>4</th>\n",
       "      <td>5</td>\n",
       "      <td>249.121</td>\n",
       "      <td>206.316</td>\n",
       "      <td>122.162</td>\n",
       "      <td>39.770635</td>\n",
       "      <td>20.441</td>\n",
       "      <td>151</td>\n",
       "      <td>1.635</td>\n",
       "      <td>1.037</td>\n",
       "      <td>0.965</td>\n",
       "    </tr>\n",
       "  </tbody>\n",
       "</table>\n",
       "</div>"
      ],
      "text/plain": [
       "   Image        R        G        B        Hue   StDev  Median   Skew     AR  \\\n",
       "0      1  236.764  200.613  153.233  34.032874  33.247     138  0.660  1.025   \n",
       "1      2  245.911  266.276  179.424  78.378029  37.526     156  0.758  1.010   \n",
       "2      3  116.534  109.282   18.273  55.571793  28.342     115  0.587  1.681   \n",
       "3      4  220.972  215.616  191.501  49.095721  32.131     147  0.943  1.130   \n",
       "4      5  249.121  206.316  122.162  39.770635  20.441     151  1.635  1.037   \n",
       "\n",
       "   Round  \n",
       "0  0.976  \n",
       "1  0.990  \n",
       "2  0.595  \n",
       "3  0.885  \n",
       "4  0.965  "
      ]
     },
     "execution_count": 206,
     "metadata": {},
     "output_type": "execute_result"
    }
   ],
   "source": [
    "# Create dataframe for each fruit class\n",
    "\n",
    "mango = pd.read_excel('ML1_dataset(1).xlsx', sheet_name = 'Class 1 - Mango')\n",
    "orange = pd.read_excel('ML1_dataset(1).xlsx', sheet_name = 'Class 2 - Orange')\n",
    "banana = pd.read_excel('ML1_dataset(1).xlsx', sheet_name = 'Class 3 - Banana')\n",
    "mango = pd.DataFrame(mango)\n",
    "orange = pd.DataFrame(orange)\n",
    "banana = pd.DataFrame(banana)\n",
    "orange.head()"
   ]
  },
  {
   "cell_type": "code",
   "execution_count": 207,
   "metadata": {},
   "outputs": [],
   "source": [
    "def hue(R,G,B):\n",
    "    vals = [R, G, B]\n",
    "    max_vals = max(vals)\n",
    "    min_vals = min(vals)\n",
    "    \n",
    "    if max_vals == R:\n",
    "        hue = 60 * (G-B)/(max_vals - min_vals)\n",
    "    elif max_vals == G:\n",
    "        hue = 60 * (2+(B-R)/(max_vals - min_vals))\n",
    "    else:\n",
    "        hue = 60 * (4+(R-G)/(max_vals - min_vals))\n",
    "    \n",
    "    return hue"
   ]
  },
  {
   "cell_type": "markdown",
   "metadata": {},
   "source": [
    "## Mango vs Orange"
   ]
  },
  {
   "cell_type": "code",
   "execution_count": 280,
   "metadata": {
    "scrolled": true
   },
   "outputs": [],
   "source": [
    "mango['Hue'] = mango.apply(lambda x: hue(x['R'], x['G'], x['B']), axis = 1)\n",
    "mango[\"Class\"] = 1\n",
    "mango[\"Class_name\"] = 'Mango'\n",
    "orange['Hue'] = orange.apply(lambda x: hue(x['R'], x['G'], x['B']), axis = 1)\n",
    "orange[\"Class_name\"] = 'Orange'\n",
    "orange[\"Class\"] = -1"
   ]
  },
  {
   "cell_type": "code",
   "execution_count": 281,
   "metadata": {},
   "outputs": [],
   "source": [
    "data = pd.concat([mango, orange], ignore_index = True, sort = False)\n",
    "data = data.drop(columns = ['Image', 'R', 'G', 'B', 'Skew'])\n",
    "data['Hue_norm'] = data['Hue']/max(data['Hue'])\n",
    "data['x_0'] = 1.0\n",
    "\n",
    "test = pd.concat([mango.iloc[14:], orange.iloc[14:]], ignore_index = True, sort = False)\n",
    "test = test.drop(columns = ['Image', 'R', 'G', 'B', 'Skew'])\n",
    "test['Hue_norm'] = test['Hue']/max(test['Hue'])\n",
    "test['x_0'] = 1.0"
   ]
  },
  {
   "cell_type": "code",
   "execution_count": 282,
   "metadata": {
    "scrolled": true
   },
   "outputs": [],
   "source": [
    "X = np.array(data[['Hue_norm','Round']])\n",
    "Z = np.array(data[['Class']])\n",
    "\n",
    "X1 = np.array(test[['Hue_norm','Round']])\n",
    "Z1 = np.array(test[['Class']])"
   ]
  },
  {
   "cell_type": "code",
   "execution_count": 283,
   "metadata": {},
   "outputs": [],
   "source": [
    "h = np.matmul(Z,Z.T) * np.matmul(X,X.T)\n",
    "H = cvxopt.matrix(h, tc='d')\n",
    "A = cvxopt.matrix(-np.identity(h.shape[0]),tc='d')\n",
    "B = (cvxopt.matrix(Z, tc = 'd')).T\n",
    "\n",
    "s = cvxopt.matrix(np.eye(h.shape[0])*0.005, tc= 'd')"
   ]
  },
  {
   "cell_type": "code",
   "execution_count": 285,
   "metadata": {},
   "outputs": [],
   "source": [
    "f = cvxopt.matrix(-np.ones((h.shape[0],1)), tc = 'd')\n",
    "a = cvxopt.matrix(np.zeros((h.shape[0],1)), tc='d')\n",
    "# b = cvxopt.matrix(np.zeros((h.shape[0],1)), tc = 'd')\n",
    "b = cvxopt.matrix(float(0), tc = 'd')"
   ]
  },
  {
   "cell_type": "code",
   "execution_count": 286,
   "metadata": {
    "scrolled": false
   },
   "outputs": [
    {
     "name": "stdout",
     "output_type": "stream",
     "text": [
      "     pcost       dcost       gap    pres   dres\n",
      " 0: -2.9131e+01 -7.5361e+01  5e+01  7e-16  2e+00\n",
      " 1: -5.5732e+01 -7.4368e+01  2e+01  2e-15  1e+00\n",
      " 2: -1.9206e+02 -2.2924e+02  4e+01  9e-15  1e+00\n",
      " 3: -1.3369e+03 -1.5348e+03  2e+02  8e-14  7e-01\n",
      " 4: -2.2445e+03 -2.8862e+03  6e+02  6e-13  5e-02\n",
      " 5: -2.2611e+03 -2.2874e+03  3e+01  5e-13  2e-03\n",
      " 6: -2.2613e+03 -2.2617e+03  4e-01  2e-13  2e-05\n",
      " 7: -2.2614e+03 -2.2614e+03  5e-03  3e-13  2e-07\n",
      " 8: -2.2614e+03 -2.2614e+03  5e-05  3e-13  2e-09\n",
      "Optimal solution found.\n"
     ]
    },
    {
     "data": {
      "text/plain": [
       "(41, 1)"
      ]
     },
     "execution_count": 286,
     "metadata": {},
     "output_type": "execute_result"
    }
   ],
   "source": [
    "lambd = solvers.qp(H+s, f, A, a, B, b)   # x, y ,s, z\n",
    "alpha = np.array(lambd['x'])\n",
    "alpha.shape"
   ]
  },
  {
   "cell_type": "code",
   "execution_count": 291,
   "metadata": {
    "scrolled": true
   },
   "outputs": [
    {
     "data": {
      "text/plain": [
       "(2.6858661963651462, (2, 1))"
      ]
     },
     "execution_count": 291,
     "metadata": {},
     "output_type": "execute_result"
    }
   ],
   "source": [
    "# Finding weights\n",
    "first = alpha*Z\n",
    "weights = np.dot(first.T, X).T\n",
    "w0 = np.add((float(1/Z[0])),float(-np.dot(weights.T,X[0])))\n",
    "w0, weights.shape"
   ]
  },
  {
   "cell_type": "code",
   "execution_count": 292,
   "metadata": {
    "scrolled": true
   },
   "outputs": [
    {
     "data": {
      "text/plain": [
       "0.45613916743017835"
      ]
     },
     "execution_count": 292,
     "metadata": {},
     "output_type": "execute_result"
    }
   ],
   "source": [
    "# Prediction and margin\n",
    "ans = np.array(w0+weights[0]*X[:,0]+weights[1]*X[:,1])\n",
    "\n",
    "pred_1 = (ans>=0)\n",
    "pred_1 = np.array(matrix(pred_1.astype(float)))\n",
    "pred_2 = (ans<0)\n",
    "pred_2 = -np.array(matrix(pred_2.astype(float)))\n",
    "\n",
    "a = (Z==pred_1).astype(float)\n",
    "c = (Z==pred_2).astype(float)\n",
    "\n",
    "accuracy = (np.sum(a)+np.sum(c))/len(pred_1) * 100\n",
    "accuracy\n",
    "margin = 2/np.linalg.norm(weights)\n",
    "margin"
   ]
  },
  {
   "cell_type": "markdown",
   "metadata": {},
   "source": [
    "### Visualizations"
   ]
  },
  {
   "cell_type": "code",
   "execution_count": 216,
   "metadata": {},
   "outputs": [
    {
     "data": {
      "image/png": "[encoded data removed]",
      "text/plain": [
       "<Figure size 432x288 with 1 Axes>"
      ]
     },
     "metadata": {
      "needs_background": "light"
     },
     "output_type": "display_data"
    }
   ],
   "source": [
    "b1 = -w0/weights[1]\n",
    "m1 = -(weights[0]/weights[1])\n",
    "f_x_test = b1 + np.dot(X[:,0].reshape(X.shape[0],1),m1) # Decision line equation\n",
    "\n",
    "xd = np.array([min(X[:,0]), max(X[:,0])])\n",
    "yd = m1*xd + b1\n",
    "\n",
    "sns.scatterplot(data=data, x='Hue_norm', y='Round', hue='Class_name')\n",
    "plt.plot(xd,yd,'--k', lw=1, label = 'y = %0.5fx + %0.5f'%(m1, b1))\n",
    "plt.fill_between(xd, yd, 0, color='tab:blue', alpha=0.1)\n",
    "plt.fill_between(xd, yd, 1, color='tab:orange', alpha=0.1)\n",
    "plt.title('Training Accuracy: %0.3f' %(accuracy)+'%')\n",
    "plt.legend()\n",
    "plt.ylim(0.2, 1)\n",
    "\n",
    "plt.savefig('ML4_SVM_mvo.png')"
   ]
  },
  {
   "cell_type": "markdown",
   "metadata": {},
   "source": [
    "## Second SEEEET (Orange vs Banana)"
   ]
  },
  {
   "cell_type": "code",
   "execution_count": 265,
   "metadata": {},
   "outputs": [
    {
     "data": {
      "text/html": [
       "<div>\n",
       "<style scoped>\n",
       "    .dataframe tbody tr th:only-of-type {\n",
       "        vertical-align: middle;\n",
       "    }\n",
       "\n",
       "    .dataframe tbody tr th {\n",
       "        vertical-align: top;\n",
       "    }\n",
       "\n",
       "    .dataframe thead th {\n",
       "        text-align: right;\n",
       "    }\n",
       "</style>\n",
       "<table border=\"1\" class=\"dataframe\">\n",
       "  <thead>\n",
       "    <tr style=\"text-align: right;\">\n",
       "      <th></th>\n",
       "      <th>Image</th>\n",
       "      <th>R</th>\n",
       "      <th>G</th>\n",
       "      <th>B</th>\n",
       "      <th>StDev</th>\n",
       "      <th>Median</th>\n",
       "      <th>AR</th>\n",
       "      <th>Skew</th>\n",
       "      <th>Round</th>\n",
       "      <th>Hue</th>\n",
       "      <th>Class</th>\n",
       "      <th>Class_name</th>\n",
       "    </tr>\n",
       "  </thead>\n",
       "  <tbody>\n",
       "    <tr>\n",
       "      <th>0</th>\n",
       "      <td>1</td>\n",
       "      <td>215</td>\n",
       "      <td>210</td>\n",
       "      <td>177</td>\n",
       "      <td>35.793</td>\n",
       "      <td>183</td>\n",
       "      <td>1.688</td>\n",
       "      <td>-0.679</td>\n",
       "      <td>0.593</td>\n",
       "      <td>52.105263</td>\n",
       "      <td>1</td>\n",
       "      <td>Mango</td>\n",
       "    </tr>\n",
       "    <tr>\n",
       "      <th>1</th>\n",
       "      <td>2</td>\n",
       "      <td>248</td>\n",
       "      <td>190</td>\n",
       "      <td>73</td>\n",
       "      <td>14.205</td>\n",
       "      <td>175</td>\n",
       "      <td>1.727</td>\n",
       "      <td>-0.416</td>\n",
       "      <td>0.579</td>\n",
       "      <td>40.114286</td>\n",
       "      <td>1</td>\n",
       "      <td>Mango</td>\n",
       "    </tr>\n",
       "    <tr>\n",
       "      <th>2</th>\n",
       "      <td>3</td>\n",
       "      <td>233</td>\n",
       "      <td>151</td>\n",
       "      <td>14</td>\n",
       "      <td>29.574</td>\n",
       "      <td>131</td>\n",
       "      <td>1.330</td>\n",
       "      <td>-0.385</td>\n",
       "      <td>0.752</td>\n",
       "      <td>37.534247</td>\n",
       "      <td>1</td>\n",
       "      <td>Mango</td>\n",
       "    </tr>\n",
       "    <tr>\n",
       "      <th>3</th>\n",
       "      <td>4</td>\n",
       "      <td>246</td>\n",
       "      <td>225</td>\n",
       "      <td>81</td>\n",
       "      <td>20.652</td>\n",
       "      <td>158</td>\n",
       "      <td>1.729</td>\n",
       "      <td>-0.553</td>\n",
       "      <td>0.578</td>\n",
       "      <td>52.363636</td>\n",
       "      <td>1</td>\n",
       "      <td>Mango</td>\n",
       "    </tr>\n",
       "    <tr>\n",
       "      <th>4</th>\n",
       "      <td>5</td>\n",
       "      <td>220</td>\n",
       "      <td>155</td>\n",
       "      <td>93</td>\n",
       "      <td>30.002</td>\n",
       "      <td>110</td>\n",
       "      <td>1.446</td>\n",
       "      <td>0.831</td>\n",
       "      <td>0.692</td>\n",
       "      <td>29.291339</td>\n",
       "      <td>1</td>\n",
       "      <td>Mango</td>\n",
       "    </tr>\n",
       "  </tbody>\n",
       "</table>\n",
       "</div>"
      ],
      "text/plain": [
       "   Image    R    G    B   StDev  Median     AR   Skew  Round        Hue  \\\n",
       "0      1  215  210  177  35.793     183  1.688 -0.679  0.593  52.105263   \n",
       "1      2  248  190   73  14.205     175  1.727 -0.416  0.579  40.114286   \n",
       "2      3  233  151   14  29.574     131  1.330 -0.385  0.752  37.534247   \n",
       "3      4  246  225   81  20.652     158  1.729 -0.553  0.578  52.363636   \n",
       "4      5  220  155   93  30.002     110  1.446  0.831  0.692  29.291339   \n",
       "\n",
       "   Class Class_name  \n",
       "0      1      Mango  \n",
       "1      1      Mango  \n",
       "2      1      Mango  \n",
       "3      1      Mango  \n",
       "4      1      Mango  "
      ]
     },
     "execution_count": 265,
     "metadata": {},
     "output_type": "execute_result"
    }
   ],
   "source": [
    "orange['Hue'] = orange.apply(lambda x: hue(x['R'], x['G'], x['B']), axis = 1)\n",
    "orange[\"Class_name\"] = 'Orange'\n",
    "orange[\"Class\"] = -1\n",
    "banana['Hue'] = banana.apply(lambda x: hue(x['R'], x['G'], x['B']), axis = 1)\n",
    "banana[\"Class_name\"] = 'Banana'\n",
    "banana[\"Class\"] = 1\n",
    "\n",
    "mango.head()"
   ]
  },
  {
   "cell_type": "code",
   "execution_count": 266,
   "metadata": {},
   "outputs": [],
   "source": [
    "data = pd.concat([banana, orange], ignore_index = True, sort = False)\n",
    "data = data.drop(columns = ['Image', 'R', 'G', 'B', 'Skew'])\n",
    "data['Hue_norm'] = data['Hue']/max(data['Hue'])\n",
    "data['x_0'] = 1.0"
   ]
  },
  {
   "cell_type": "code",
   "execution_count": 267,
   "metadata": {
    "scrolled": true
   },
   "outputs": [],
   "source": [
    "X = np.array(data[['Hue_norm','Round']])\n",
    "Z = np.array(data[['Class']])"
   ]
  },
  {
   "cell_type": "code",
   "execution_count": 268,
   "metadata": {},
   "outputs": [],
   "source": [
    "h = np.matmul(Z,Z.T) * np.matmul(X,X.T)\n",
    "H = cvxopt.matrix(h, tc='d')#\n",
    "A = cvxopt.matrix(-np.identity(h.shape[0]),tc='d')\n",
    "B = cvxopt.matrix(Z, tc = 'd').T\n",
    "\n",
    "s = cvxopt.matrix(np.eye(h.shape[0])*0.005, tc= 'd')\n",
    "f = cvxopt.matrix(-np.ones((h.shape[0],1)), tc = 'd')\n",
    "a = cvxopt.matrix(np.zeros((h.shape[0],1)), tc='d')\n",
    "# b = cvxopt.matrix(np.zeros((h.shape[0],1)), tc = 'd')\n",
    "b = cvxopt.matrix(float(0), tc = 'd')"
   ]
  },
  {
   "cell_type": "code",
   "execution_count": 269,
   "metadata": {},
   "outputs": [
    {
     "name": "stdout",
     "output_type": "stream",
     "text": [
      "     pcost       dcost       gap    pres   dres\n",
      " 0: -2.4168e+01 -6.6541e+01  4e+01  3e-15  2e+00\n",
      " 1: -4.0784e+01 -6.3045e+01  2e+01  1e-15  1e+00\n",
      " 2: -1.8994e+02 -2.3069e+02  4e+01  1e-14  1e+00\n",
      " 3: -3.0933e+02 -3.7131e+02  6e+01  1e-14  1e+00\n",
      " 4: -6.9105e+02 -8.4915e+02  2e+02  3e-14  9e-01\n",
      " 5: -1.3147e+03 -1.6594e+03  3e+02  1e-13  6e-01\n",
      " 6: -1.5278e+03 -1.6363e+03  1e+02  1e-13  8e-02\n",
      " 7: -1.5314e+03 -1.5338e+03  2e+00  2e-13  7e-04\n",
      " 8: -1.5321e+03 -1.5321e+03  4e-02  3e-13  1e-05\n",
      " 9: -1.5321e+03 -1.5321e+03  4e-04  4e-13  1e-07\n",
      "10: -1.5321e+03 -1.5321e+03  4e-06  1e-13  1e-09\n",
      "Optimal solution found.\n"
     ]
    }
   ],
   "source": [
    "lambd = solvers.qp(H+s, f, A, a, B, b)   # x, y ,s, z\n",
    "alpha = np.array(lambd['x'])"
   ]
  },
  {
   "cell_type": "code",
   "execution_count": 270,
   "metadata": {},
   "outputs": [
    {
     "data": {
      "text/plain": [
       "1.3881243082660206"
      ]
     },
     "execution_count": 270,
     "metadata": {},
     "output_type": "execute_result"
    }
   ],
   "source": [
    "# Finding weights\n",
    "first = alpha*Z\n",
    "weights = np.dot(first.T, X).T\n",
    "w0 = np.add((float(1/Z[0])),float(-np.dot(weights.T,X[0])))\n",
    "w0"
   ]
  },
  {
   "cell_type": "code",
   "execution_count": 272,
   "metadata": {},
   "outputs": [
    {
     "data": {
      "text/plain": [
       "0.29643863756107797"
      ]
     },
     "execution_count": 272,
     "metadata": {},
     "output_type": "execute_result"
    }
   ],
   "source": [
    "ans = np.array(w0+weights[0]*X[:,0]+weights[1]*X[:,1])\n",
    "\n",
    "pred_1 = (ans>=0)\n",
    "pred_1 = np.array(matrix(pred_1.astype(float)))\n",
    "pred_2 = (ans<0)\n",
    "pred_2 = -np.array(matrix(pred_2.astype(float)))\n",
    "\n",
    "a = (Z==pred_1).astype(float)\n",
    "c = (Z==pred_2).astype(float)\n",
    "\n",
    "accuracy = (np.sum(a)+np.sum(c))/len(pred_1) * 100\n",
    "accuracy\n",
    "margin = 2/np.linalg.norm(weights)\n",
    "margin"
   ]
  },
  {
   "cell_type": "code",
   "execution_count": 225,
   "metadata": {
    "scrolled": true
   },
   "outputs": [
    {
     "data": {
      "image/png": "[encoded data removed]",
      "text/plain": [
       "<Figure size 432x288 with 1 Axes>"
      ]
     },
     "metadata": {
      "needs_background": "light"
     },
     "output_type": "display_data"
    }
   ],
   "source": [
    "b2 = -w0/weights[1]\n",
    "m2 = -(weights[0]/weights[1])\n",
    "f_x_test = b2 + np.dot(X[:,0].reshape(X.shape[0],1),m2) # Decision line equation\n",
    "\n",
    "xd = np.array([min(X[:,0]), max(X[:,0])])\n",
    "yd = m2*xd + b2\n",
    "\n",
    "sns.scatterplot(data=data, x='Hue_norm', y='Round', hue='Class_name')\n",
    "plt.plot(xd,yd,'--k', lw=1, label = 'y = %0.5fx + %0.5f'%(m2, b2))\n",
    "plt.fill_between(xd, yd, 0, color='tab:blue', alpha=0.1)\n",
    "plt.fill_between(xd, yd, 1.1, color='tab:orange', alpha=0.1)\n",
    "plt.title('Training Accuracy: %0.3f' %(accuracy) + '%')\n",
    "plt.legend()\n",
    "plt.ylim(0,1.1)\n",
    "\n",
    "plt.savefig('ML4_SVM_bvso.png')"
   ]
  },
  {
   "cell_type": "markdown",
   "metadata": {},
   "source": [
    "## Third Seeeet (Mango vs Banana)"
   ]
  },
  {
   "cell_type": "code",
   "execution_count": 273,
   "metadata": {
    "scrolled": true
   },
   "outputs": [
    {
     "data": {
      "text/html": [
       "<div>\n",
       "<style scoped>\n",
       "    .dataframe tbody tr th:only-of-type {\n",
       "        vertical-align: middle;\n",
       "    }\n",
       "\n",
       "    .dataframe tbody tr th {\n",
       "        vertical-align: top;\n",
       "    }\n",
       "\n",
       "    .dataframe thead th {\n",
       "        text-align: right;\n",
       "    }\n",
       "</style>\n",
       "<table border=\"1\" class=\"dataframe\">\n",
       "  <thead>\n",
       "    <tr style=\"text-align: right;\">\n",
       "      <th></th>\n",
       "      <th>Image</th>\n",
       "      <th>R</th>\n",
       "      <th>G</th>\n",
       "      <th>B</th>\n",
       "      <th>StDev</th>\n",
       "      <th>Median</th>\n",
       "      <th>AR</th>\n",
       "      <th>Skew</th>\n",
       "      <th>Round</th>\n",
       "      <th>Hue</th>\n",
       "      <th>Class</th>\n",
       "      <th>Class_name</th>\n",
       "    </tr>\n",
       "  </thead>\n",
       "  <tbody>\n",
       "    <tr>\n",
       "      <th>0</th>\n",
       "      <td>1</td>\n",
       "      <td>215</td>\n",
       "      <td>210</td>\n",
       "      <td>177</td>\n",
       "      <td>35.793</td>\n",
       "      <td>183</td>\n",
       "      <td>1.688</td>\n",
       "      <td>-0.679</td>\n",
       "      <td>0.593</td>\n",
       "      <td>52.105263</td>\n",
       "      <td>1</td>\n",
       "      <td>Mango</td>\n",
       "    </tr>\n",
       "    <tr>\n",
       "      <th>1</th>\n",
       "      <td>2</td>\n",
       "      <td>248</td>\n",
       "      <td>190</td>\n",
       "      <td>73</td>\n",
       "      <td>14.205</td>\n",
       "      <td>175</td>\n",
       "      <td>1.727</td>\n",
       "      <td>-0.416</td>\n",
       "      <td>0.579</td>\n",
       "      <td>40.114286</td>\n",
       "      <td>1</td>\n",
       "      <td>Mango</td>\n",
       "    </tr>\n",
       "    <tr>\n",
       "      <th>2</th>\n",
       "      <td>3</td>\n",
       "      <td>233</td>\n",
       "      <td>151</td>\n",
       "      <td>14</td>\n",
       "      <td>29.574</td>\n",
       "      <td>131</td>\n",
       "      <td>1.330</td>\n",
       "      <td>-0.385</td>\n",
       "      <td>0.752</td>\n",
       "      <td>37.534247</td>\n",
       "      <td>1</td>\n",
       "      <td>Mango</td>\n",
       "    </tr>\n",
       "    <tr>\n",
       "      <th>3</th>\n",
       "      <td>4</td>\n",
       "      <td>246</td>\n",
       "      <td>225</td>\n",
       "      <td>81</td>\n",
       "      <td>20.652</td>\n",
       "      <td>158</td>\n",
       "      <td>1.729</td>\n",
       "      <td>-0.553</td>\n",
       "      <td>0.578</td>\n",
       "      <td>52.363636</td>\n",
       "      <td>1</td>\n",
       "      <td>Mango</td>\n",
       "    </tr>\n",
       "    <tr>\n",
       "      <th>4</th>\n",
       "      <td>5</td>\n",
       "      <td>220</td>\n",
       "      <td>155</td>\n",
       "      <td>93</td>\n",
       "      <td>30.002</td>\n",
       "      <td>110</td>\n",
       "      <td>1.446</td>\n",
       "      <td>0.831</td>\n",
       "      <td>0.692</td>\n",
       "      <td>29.291339</td>\n",
       "      <td>1</td>\n",
       "      <td>Mango</td>\n",
       "    </tr>\n",
       "  </tbody>\n",
       "</table>\n",
       "</div>"
      ],
      "text/plain": [
       "   Image    R    G    B   StDev  Median     AR   Skew  Round        Hue  \\\n",
       "0      1  215  210  177  35.793     183  1.688 -0.679  0.593  52.105263   \n",
       "1      2  248  190   73  14.205     175  1.727 -0.416  0.579  40.114286   \n",
       "2      3  233  151   14  29.574     131  1.330 -0.385  0.752  37.534247   \n",
       "3      4  246  225   81  20.652     158  1.729 -0.553  0.578  52.363636   \n",
       "4      5  220  155   93  30.002     110  1.446  0.831  0.692  29.291339   \n",
       "\n",
       "   Class Class_name  \n",
       "0      1      Mango  \n",
       "1      1      Mango  \n",
       "2      1      Mango  \n",
       "3      1      Mango  \n",
       "4      1      Mango  "
      ]
     },
     "execution_count": 273,
     "metadata": {},
     "output_type": "execute_result"
    }
   ],
   "source": [
    "mango['Hue'] = mango.apply(lambda x: hue(x['R'], x['G'], x['B']), axis = 1)\n",
    "mango[\"Class\"] = 1\n",
    "mango[\"Class_name\"] = 'Mango'\n",
    "banana['Hue'] = banana.apply(lambda x: hue(x['R'], x['G'], x['B']), axis = 1)\n",
    "banana[\"Class_name\"] = 'Banana'\n",
    "banana[\"Class\"] = -1\n",
    "\n",
    "mango.head()"
   ]
  },
  {
   "cell_type": "code",
   "execution_count": 274,
   "metadata": {},
   "outputs": [],
   "source": [
    "data = pd.concat([mango, banana], ignore_index = True, sort = False)\n",
    "data = data.drop(columns = ['Image', 'R', 'G', 'B', 'Skew'])\n",
    "data['Hue_norm'] = data['Hue']/max(data['Hue'])\n",
    "data['x_0'] = 1.0"
   ]
  },
  {
   "cell_type": "code",
   "execution_count": 275,
   "metadata": {},
   "outputs": [],
   "source": [
    "X = np.array(data[['Hue_norm','Round']])\n",
    "Z = np.array(data[['Class']])"
   ]
  },
  {
   "cell_type": "code",
   "execution_count": 276,
   "metadata": {},
   "outputs": [],
   "source": [
    "h = np.matmul(Z,Z.T) * np.matmul(X,X.T)\n",
    "H = cvxopt.matrix(h, tc='d')#\n",
    "A = cvxopt.matrix(-np.identity(h.shape[0]),tc='d')\n",
    "B = cvxopt.matrix(Z, tc = 'd').T\n",
    "\n",
    "s = cvxopt.matrix(np.eye(h.shape[0])*0.005, tc= 'd')\n",
    "f = cvxopt.matrix(-np.ones((h.shape[0],1)), tc = 'd')\n",
    "a = cvxopt.matrix(np.zeros((h.shape[0],1)), tc='d')\n",
    "# b = cvxopt.matrix(np.zeros((h.shape[0],1)), tc = 'd')\n",
    "b = cvxopt.matrix(float(0), tc = 'd')"
   ]
  },
  {
   "cell_type": "code",
   "execution_count": 277,
   "metadata": {
    "scrolled": true
   },
   "outputs": [
    {
     "name": "stdout",
     "output_type": "stream",
     "text": [
      "     pcost       dcost       gap    pres   dres\n",
      " 0: -3.6713e+01 -8.0731e+01  4e+01  1e-15  2e+00\n",
      " 1: -7.6551e+01 -9.1333e+01  1e+01  5e-15  1e+00\n",
      " 2: -3.0666e+02 -3.5053e+02  4e+01  8e-15  1e+00\n",
      " 3: -4.2200e+02 -4.8333e+02  6e+01  2e-14  1e+00\n",
      " 4: -6.8933e+02 -7.9927e+02  1e+02  6e-14  1e+00\n",
      " 5: -1.3483e+03 -1.6183e+03  3e+02  1e-13  9e-01\n",
      " 6: -2.5620e+03 -3.2151e+03  7e+02  2e-13  6e-01\n",
      " 7: -3.2525e+03 -3.5751e+03  3e+02  4e-13  1e-01\n",
      " 8: -3.2624e+03 -3.2680e+03  6e+00  6e-13  2e-03\n",
      " 9: -3.2624e+03 -3.2625e+03  8e-02  8e-13  2e-05\n",
      "10: -3.2624e+03 -3.2624e+03  2e-03  2e-13  2e-07\n",
      "11: -3.2624e+03 -3.2624e+03  5e-05  3e-13  2e-09\n",
      "Optimal solution found.\n"
     ]
    }
   ],
   "source": [
    "lambd = solvers.qp(H+s, f, A, a, B, b)   # x, y ,s, z\n",
    "alpha = np.array(lambd['x'])"
   ]
  },
  {
   "cell_type": "code",
   "execution_count": 278,
   "metadata": {},
   "outputs": [
    {
     "data": {
      "text/plain": [
       "2.7925100314355156"
      ]
     },
     "execution_count": 278,
     "metadata": {},
     "output_type": "execute_result"
    }
   ],
   "source": [
    "# Finding weights\n",
    "first = alpha*Z\n",
    "weights = np.dot(first.T, X).T\n",
    "w0 = np.add((float(1/Z[0])),float(-np.dot(weights.T,X[0])))\n",
    "w0"
   ]
  },
  {
   "cell_type": "code",
   "execution_count": 279,
   "metadata": {},
   "outputs": [
    {
     "data": {
      "text/plain": [
       "0.4275631728571549"
      ]
     },
     "execution_count": 279,
     "metadata": {},
     "output_type": "execute_result"
    }
   ],
   "source": [
    "ans = np.array(w0+weights[0]*X[:,0]+weights[1]*X[:,1])\n",
    "\n",
    "pred_1 = (ans>=0)\n",
    "pred_1 = np.array(matrix(pred_1.astype(float)))\n",
    "pred_2 = (ans<0)\n",
    "pred_2 = -np.array(matrix(pred_2.astype(float)))\n",
    "\n",
    "a = (Z==pred_1).astype(float)\n",
    "c = (Z==pred_2).astype(float)\n",
    "\n",
    "accuracy = (np.sum(a)+np.sum(c))/len(pred_1) * 100\n",
    "accuracy\n",
    "margin = 2/np.linalg.norm(weights)\n",
    "margin"
   ]
  },
  {
   "cell_type": "code",
   "execution_count": 233,
   "metadata": {
    "scrolled": true
   },
   "outputs": [
    {
     "data": {
      "image/png": "[encoded data removed]",
      "text/plain": [
       "<Figure size 432x288 with 1 Axes>"
      ]
     },
     "metadata": {
      "needs_background": "light"
     },
     "output_type": "display_data"
    }
   ],
   "source": [
    "b3 = -w0/weights[1]\n",
    "m3 = -(weights[0]/weights[1])\n",
    "f_x_test = b3 + np.dot(X[:,0].reshape(X.shape[0],1),m3) # Decision line equation\n",
    "\n",
    "xd = np.array([min(X[:,0])-0.01, max(X[:,0])+0.01])\n",
    "yd = m3*xd + b3\n",
    "\n",
    "sns.scatterplot(data=data, x='Hue_norm', y='Round', hue='Class_name')\n",
    "plt.plot(xd,yd,'--k', lw=1, label = 'y = %0.5f x %0.5f' %(m3,b3))\n",
    "plt.fill_between(xd, yd, 0, color='tab:blue', alpha=0.1)\n",
    "plt.fill_between(xd, yd, 0.8, color='tab:orange', alpha=0.1)\n",
    "plt.title('Training Accuracy: %0.3f' %(accuracy))\n",
    "plt.ylim(0,0.8)\n",
    "plt.legend(loc='lower left')\n",
    "\n",
    "plt.savefig('ML4_train_mvsb.png')"
   ]
  },
  {
   "cell_type": "markdown",
   "metadata": {},
   "source": [
    "### Visualization for the three classes using the decision lines from SVM"
   ]
  },
  {
   "cell_type": "code",
   "execution_count": 238,
   "metadata": {},
   "outputs": [],
   "source": [
    "# Train set\n",
    "data1 = pd.concat([mango, orange, banana], ignore_index = True, sort = False) # Locate all 28 \n",
    "data1['Hue_norm'] = data1['Hue']/max(data1['Hue'])                                            # Normalize hue\n",
    "data1 = data1.drop(columns = ['Image', 'R', 'G', 'B', 'Skew'])                               # drop all unnecessary columns\n",
    "data1['x_0'] = 1.0                                                                          # For x_0 from the equation\n",
    "\n",
    "# Test set\n",
    "test1 = pd.concat([mango.iloc[11:], orange.iloc[12:], banana.iloc[11:]], ignore_index = True, sort = False)\n",
    "test1 = test1.drop(columns = ['Image', 'R', 'G', 'B', 'Skew'])\n",
    "test1['Hue_norm'] = test1['Hue']/max(data['Hue'])\n",
    "test1['x_0'] = 1.0 \n",
    "\n",
    "# Train set\n",
    "X1 = list(data1['Hue_norm'])\n",
    "X2 = list(data1['Round'])\n",
    "x = np.array(data1[['x_0','Hue_norm','Round']]) \n",
    "Y = np.array(data1[['Class']])\n",
    "\n",
    "# Test set\n",
    "X1_test = list(test1['Hue_norm'])\n",
    "X2_test = list(test1['Round'])\n",
    "x_test = np.array(test1[['x_0','Hue_norm','Round']])\n",
    "Y_test = np.array(test1[['Class']])"
   ]
  },
  {
   "cell_type": "code",
   "execution_count": 240,
   "metadata": {},
   "outputs": [
    {
     "data": {
      "image/png": "[encoded data removed]",
      "text/plain": [
       "<Figure size 432x288 with 1 Axes>"
      ]
     },
     "metadata": {
      "needs_background": "light"
     },
     "output_type": "display_data"
    }
   ],
   "source": [
    "# b = -result[0]/result[2]\n",
    "# m = -(result[1]/result[2])\n",
    "# f_x_test = b + np.dot(x_test[:,1].reshape(x_test.shape[0],1),m) # Decision line equation\n",
    "\n",
    "xd = np.array([0.2-0.1,1.1])\n",
    "# yd = m*xd + b\n",
    "\n",
    "sns.scatterplot(data=data1, x='Hue_norm', y='Round', hue='Class_name')\n",
    "plt.plot(xd,m1*xd + b1,'--k', lw=1)\n",
    "plt.plot(xd,m2*xd + b2,'--k', lw=1)\n",
    "# plt.plot(xd,m2*xd + b2,'--k', lw=1)\n",
    "\n",
    "plt.fill_between(xd, m1*xd + b1, 0.1, color='tab:blue', alpha=0.1)\n",
    "plt.fill_between(xd, m1*xd + b1, 1.1, color='tab:orange', alpha=0.1)\n",
    "\n",
    "plt.fill_between(xd, m2*xd + b2, 0, color='tab:green', alpha=0.1)\n",
    "# plt.fill_between(xd, m1*xd + b1, 1.1, color='tab:orange', alpha=0.1)\n",
    "\n",
    "# plt.fill_between(xd, m2*xd + b2, 0.3, color='tab:green', alpha=0.1)\n",
    "# plt.fill_between(xd, m2*xd + b2, 0.75, color='tab:blue', alpha=0.1)\n",
    "plt.ylim(0.1,1)\n",
    "plt.xlim(0.1,1.1)\n",
    "# plt.title('Graph for the Test set: %f ' %(float(scores)) + '%' + 'y = %fx + %f' %(m,b))\n",
    "plt.legend()\n",
    "plt.savefig('ML4.png')"
   ]
  },
  {
   "cell_type": "code",
   "execution_count": 236,
   "metadata": {},
   "outputs": [
    {
     "data": {
      "image/png": "[encoded data removed]",
      "text/plain": [
       "<Figure size 432x288 with 1 Axes>"
      ]
     },
     "metadata": {
      "needs_background": "light"
     },
     "output_type": "display_data"
    }
   ],
   "source": [
    "# b = -result[0]/result[2]\n",
    "# m = -(result[1]/result[2])\n",
    "# f_x_test = b + np.dot(x_test[:,1].reshape(x_test.shape[0],1),m) # Decision line equation\n",
    "\n",
    "xd = np.array([min(X[:,1])-0.1, max(X[:,1])+0.1])\n",
    "# yd = m*xd + b\n",
    "\n",
    "sns.scatterplot(data=test1, x='Hue_norm', y='Round', hue='Class_name')\n",
    "plt.plot(xd,m1*xd + b1,'--k', lw=1)\n",
    "plt.plot(xd,m2*xd + b2,'--k', lw=1)\n",
    "# plt.plot(xd,m2*xd + b2,'--k', lw=1)\n",
    "\n",
    "plt.fill_between(xd, m1*xd + b1, 0.2, color='tab:blue', alpha=0.1)\n",
    "plt.fill_between(xd, m1*xd + b1, 1.1, color='tab:orange', alpha=0.1)\n",
    "\n",
    "plt.fill_between(xd, m2*xd + b2, 0.3, color='tab:green', alpha=0.1)\n",
    "# plt.fill_between(xd, m1*xd + b1, 1.1, color='tab:orange', alpha=0.1)\n",
    "\n",
    "# plt.fill_between(xd, m2*xd + b2, 0.3, color='tab:green', alpha=0.1)\n",
    "# plt.fill_between(xd, m2*xd + b2, 0.75, color='tab:blue', alpha=0.1)\n",
    "plt.ylim(0.3,1)\n",
    "plt.xlim(0.3,0.8)\n",
    "# plt.title('Graph for the Test set: %f ' %(float(scores)) + '%' + 'y = %fx + %f' %(m,b))\n",
    "\n",
    "plt.savefig('ML4_test_bvsmvso.png')"
   ]
  }
 ],
 "metadata": {
  "kernelspec": {
   "display_name": "Python 3",
   "language": "python",
   "name": "python3"
  },
  "language_info": {
   "codemirror_mode": {
    "name": "ipython",
    "version": 3
   },
   "file_extension": ".py",
   "mimetype": "text/x-python",
   "name": "python",
   "nbconvert_exporter": "python",
   "pygments_lexer": "ipython3",
   "version": "3.7.1"
  }
 },
 "nbformat": 4,
 "nbformat_minor": 2
}
